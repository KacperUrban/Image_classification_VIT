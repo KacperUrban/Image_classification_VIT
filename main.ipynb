{
 "cells": [
  {
   "cell_type": "markdown",
   "id": "672b5755-060c-4a22-a897-96c876d84f1d",
   "metadata": {},
   "source": [
    "## Importing libraries"
   ]
  },
  {
   "cell_type": "code",
   "execution_count": 34,
   "id": "64da388f-4704-44b3-b57b-eee83900fbea",
   "metadata": {},
   "outputs": [],
   "source": [
    "import os\n",
    "import pandas as pd\n",
    "import json\n",
    "from PIL import Image\n",
    "import numpy as np\n",
    "import matplotlib.pyplot as plt\n",
    "from datasets import Dataset, Image, DatasetDict\n",
    "from transformers import (\n",
    "    ViTForImageClassification, \n",
    "    ViTImageProcessor,\n",
    "    BeitForImageClassification,\n",
    "    BeitImageProcessor,\n",
    "    MobileViTForImageClassification,\n",
    "    MobileViTImageProcessor\n",
    ")\n",
    "from torchvision.transforms import (\n",
    "    Normalize,\n",
    "    ToTensor,\n",
    "    Resize,\n",
    "    CenterCrop,\n",
    "    Compose,\n",
    ")\n",
    "import torch\n",
    "from torch.utils.data import DataLoader\n",
    "from transformers import TrainingArguments, Trainer\n",
    "from dotenv import load_dotenv\n",
    "import wandb\n",
    "import evaluate\n",
    "from sklearn.metrics import confusion_matrix\n",
    "import seaborn as sns\n",
    "import matplotlib.pyplot as plt"
   ]
  },
  {
   "cell_type": "code",
   "execution_count": 2,
   "id": "b1a41d91-4af9-4e12-b1d1-6099ab02e4c0",
   "metadata": {},
   "outputs": [
    {
     "name": "stderr",
     "output_type": "stream",
     "text": [
      "wandb: Currently logged in as: urbankacper613 (urbankacper613-politechnika-rzeszowska-im-i-ukasiewicza). Use `wandb login --relogin` to force relogin\n",
      "wandb: WARNING If you're specifying your api key in code, ensure this code is not shared publicly.\n",
      "wandb: WARNING Consider setting the WANDB_API_KEY environment variable, or running `wandb login` from the command line.\n",
      "wandb: Appending key for api.wandb.ai to your netrc file: C:\\Users\\urbii\\_netrc\n"
     ]
    }
   ],
   "source": [
    "load_dotenv()\n",
    "wandb.login(key=os.environ[\"wandb_api_key\"])\n",
    "os.environ[\"WANDB_PROJECT\"]=\"Classification-BR-VIT\"\n",
    "os.environ[\"WANDB_LOG_MODEL\"]=\"end\"\n",
    "os.environ[\"WANDB_WATCH\"]=\"false\""
   ]
  },
  {
   "cell_type": "markdown",
   "id": "072f1130-710e-46c1-8721-3b95379216fe",
   "metadata": {
    "jp-MarkdownHeadingCollapsed": true
   },
   "source": [
    "## Preparing data\n",
    "For further part I want to get some information about data, like filepath, label id, time_of_day and season. In latter part I will conduct experiments like make training on some part and excluded images taken during day and test on it. Thanks to this information I will have much easier later."
   ]
  },
  {
   "cell_type": "code",
   "execution_count": 52,
   "id": "d15eeecc-a7b6-4e05-b0ef-7b6c9e9f94d4",
   "metadata": {},
   "outputs": [],
   "source": [
    "list_of_files = os.listdir(\"data/images\")"
   ]
  },
  {
   "cell_type": "code",
   "execution_count": 53,
   "id": "b9870fa6-bf8a-4895-a49e-8f5a2a7fb0ce",
   "metadata": {},
   "outputs": [],
   "source": [
    "dict_of_files = {key: list_of_files[i: i+60] for key, i in enumerate(range(0, len(list_of_files), 60))}"
   ]
  },
  {
   "cell_type": "code",
   "execution_count": 54,
   "id": "6ede037e-4ece-44df-845c-a66a4a66c448",
   "metadata": {},
   "outputs": [
    {
     "data": {
      "text/html": [
       "<div>\n",
       "<style scoped>\n",
       "    .dataframe tbody tr th:only-of-type {\n",
       "        vertical-align: middle;\n",
       "    }\n",
       "\n",
       "    .dataframe tbody tr th {\n",
       "        vertical-align: top;\n",
       "    }\n",
       "\n",
       "    .dataframe thead th {\n",
       "        text-align: right;\n",
       "    }\n",
       "</style>\n",
       "<table border=\"1\" class=\"dataframe\">\n",
       "  <thead>\n",
       "    <tr style=\"text-align: right;\">\n",
       "      <th></th>\n",
       "      <th>filepath</th>\n",
       "      <th>label_ids</th>\n",
       "      <th>time_of_day</th>\n",
       "      <th>season</th>\n",
       "    </tr>\n",
       "  </thead>\n",
       "  <tbody>\n",
       "    <tr>\n",
       "      <th>0</th>\n",
       "      <td>00_00_00.jpg</td>\n",
       "      <td>0</td>\n",
       "      <td>day</td>\n",
       "      <td>autumn</td>\n",
       "    </tr>\n",
       "    <tr>\n",
       "      <th>1</th>\n",
       "      <td>00_00_01.jpg</td>\n",
       "      <td>0</td>\n",
       "      <td>day</td>\n",
       "      <td>autumn</td>\n",
       "    </tr>\n",
       "    <tr>\n",
       "      <th>2</th>\n",
       "      <td>00_00_02.jpg</td>\n",
       "      <td>0</td>\n",
       "      <td>day</td>\n",
       "      <td>autumn</td>\n",
       "    </tr>\n",
       "    <tr>\n",
       "      <th>3</th>\n",
       "      <td>00_00_03.jpg</td>\n",
       "      <td>0</td>\n",
       "      <td>day</td>\n",
       "      <td>autumn</td>\n",
       "    </tr>\n",
       "    <tr>\n",
       "      <th>4</th>\n",
       "      <td>00_00_04.jpg</td>\n",
       "      <td>0</td>\n",
       "      <td>day</td>\n",
       "      <td>autumn</td>\n",
       "    </tr>\n",
       "  </tbody>\n",
       "</table>\n",
       "</div>"
      ],
      "text/plain": [
       "       filepath  label_ids time_of_day  season\n",
       "0  00_00_00.jpg          0         day  autumn\n",
       "1  00_00_01.jpg          0         day  autumn\n",
       "2  00_00_02.jpg          0         day  autumn\n",
       "3  00_00_03.jpg          0         day  autumn\n",
       "4  00_00_04.jpg          0         day  autumn"
      ]
     },
     "execution_count": 54,
     "metadata": {},
     "output_type": "execute_result"
    }
   ],
   "source": [
    "dict_of_data = {\"filepath\" : [], \"label_ids\" : [], \"time_of_day\": [], \"season\": []}\n",
    "additional_labels = [(\"day\", \"autumn\"), (\"night\", \"autumn\"), (\"day\", \"winter\"), (\"night\", \"winter\"), (\"day\", \"spring\"), (\"night\", \"spring\")]\n",
    "for key in dict_of_files.keys():\n",
    "    for i in range(len(dict_of_files[key])):\n",
    "        dict_of_data[\"filepath\"].append(dict_of_files[key][i])\n",
    "        dict_of_data[\"label_ids\"].append(key)\n",
    "        dict_of_data[\"time_of_day\"].append(additional_labels[i//10][0])\n",
    "        dict_of_data[\"season\"].append(additional_labels[i//10][1])\n",
    "br_df = pd.DataFrame(dict_of_data)\n",
    "br_df.head(5)"
   ]
  },
  {
   "cell_type": "code",
   "execution_count": 55,
   "id": "cf18b5a5-0f81-46f8-aecd-12e4ff4d67c8",
   "metadata": {},
   "outputs": [
    {
     "data": {
      "text/html": [
       "<div>\n",
       "<style scoped>\n",
       "    .dataframe tbody tr th:only-of-type {\n",
       "        vertical-align: middle;\n",
       "    }\n",
       "\n",
       "    .dataframe tbody tr th {\n",
       "        vertical-align: top;\n",
       "    }\n",
       "\n",
       "    .dataframe thead th {\n",
       "        text-align: right;\n",
       "    }\n",
       "</style>\n",
       "<table border=\"1\" class=\"dataframe\">\n",
       "  <thead>\n",
       "    <tr style=\"text-align: right;\">\n",
       "      <th></th>\n",
       "      <th>filepath</th>\n",
       "      <th>label_ids</th>\n",
       "      <th>time_of_day</th>\n",
       "      <th>season</th>\n",
       "    </tr>\n",
       "  </thead>\n",
       "  <tbody>\n",
       "    <tr>\n",
       "      <th>2995</th>\n",
       "      <td>49_05_05.jpg</td>\n",
       "      <td>49</td>\n",
       "      <td>night</td>\n",
       "      <td>spring</td>\n",
       "    </tr>\n",
       "    <tr>\n",
       "      <th>2996</th>\n",
       "      <td>49_05_06.jpg</td>\n",
       "      <td>49</td>\n",
       "      <td>night</td>\n",
       "      <td>spring</td>\n",
       "    </tr>\n",
       "    <tr>\n",
       "      <th>2997</th>\n",
       "      <td>49_05_07.jpg</td>\n",
       "      <td>49</td>\n",
       "      <td>night</td>\n",
       "      <td>spring</td>\n",
       "    </tr>\n",
       "    <tr>\n",
       "      <th>2998</th>\n",
       "      <td>49_05_08.jpg</td>\n",
       "      <td>49</td>\n",
       "      <td>night</td>\n",
       "      <td>spring</td>\n",
       "    </tr>\n",
       "    <tr>\n",
       "      <th>2999</th>\n",
       "      <td>49_05_09.jpg</td>\n",
       "      <td>49</td>\n",
       "      <td>night</td>\n",
       "      <td>spring</td>\n",
       "    </tr>\n",
       "  </tbody>\n",
       "</table>\n",
       "</div>"
      ],
      "text/plain": [
       "          filepath  label_ids time_of_day  season\n",
       "2995  49_05_05.jpg         49       night  spring\n",
       "2996  49_05_06.jpg         49       night  spring\n",
       "2997  49_05_07.jpg         49       night  spring\n",
       "2998  49_05_08.jpg         49       night  spring\n",
       "2999  49_05_09.jpg         49       night  spring"
      ]
     },
     "execution_count": 55,
     "metadata": {},
     "output_type": "execute_result"
    }
   ],
   "source": [
    "br_df.tail(5)"
   ]
  },
  {
   "cell_type": "code",
   "execution_count": 56,
   "id": "c2c9c835-1340-4141-9aa9-62b626892e58",
   "metadata": {},
   "outputs": [],
   "source": [
    "ids_split_data = {}\n",
    "compose_labels = [\"day\", \"night\", \"winter\", \"spring\", \"autumn\", (\"day\", \"winter\"), (\"night\", \"winter\"), (\"day\", \"spring\"), (\"night\", \"spring\"),\n",
    "                    (\"day\", \"autumn\"), (\"night\", \"autumn\")]\n",
    "for label in compose_labels:\n",
    "    if len(label) == 2:\n",
    "        ids_split_data[f\"{label[0]}-{label[1]}\"] = br_df.loc[(br_df[\"time_of_day\"] == label[0]) & (br_df[\"season\"] == label[1])].index.tolist()\n",
    "    else:\n",
    "        try:\n",
    "            ids_split_data[label] = br_df[br_df[\"time_of_day\"] == label].index.tolist()\n",
    "        except:\n",
    "            ids_split_data[label] = br_df[br_df[\"season\"] == label].index.tolist()"
   ]
  },
  {
   "cell_type": "code",
   "execution_count": 57,
   "id": "fefdf6fd-ae61-4b92-b946-e2a139807577",
   "metadata": {},
   "outputs": [],
   "source": [
    "ids = br_df.loc[(br_df[\"time_of_day\"] == \"day\") & (br_df[\"season\"] == \"spring\")].index.tolist()"
   ]
  },
  {
   "cell_type": "code",
   "execution_count": 58,
   "id": "f76fb446-b68e-484b-9244-7017990f791c",
   "metadata": {},
   "outputs": [
    {
     "data": {
      "text/html": [
       "<div>\n",
       "<style scoped>\n",
       "    .dataframe tbody tr th:only-of-type {\n",
       "        vertical-align: middle;\n",
       "    }\n",
       "\n",
       "    .dataframe tbody tr th {\n",
       "        vertical-align: top;\n",
       "    }\n",
       "\n",
       "    .dataframe thead th {\n",
       "        text-align: right;\n",
       "    }\n",
       "</style>\n",
       "<table border=\"1\" class=\"dataframe\">\n",
       "  <thead>\n",
       "    <tr style=\"text-align: right;\">\n",
       "      <th></th>\n",
       "      <th>filepath</th>\n",
       "      <th>label_ids</th>\n",
       "      <th>time_of_day</th>\n",
       "      <th>season</th>\n",
       "    </tr>\n",
       "  </thead>\n",
       "  <tbody>\n",
       "    <tr>\n",
       "      <th>0</th>\n",
       "      <td>00_00_00.jpg</td>\n",
       "      <td>0</td>\n",
       "      <td>day</td>\n",
       "      <td>autumn</td>\n",
       "    </tr>\n",
       "    <tr>\n",
       "      <th>1</th>\n",
       "      <td>00_00_01.jpg</td>\n",
       "      <td>0</td>\n",
       "      <td>day</td>\n",
       "      <td>autumn</td>\n",
       "    </tr>\n",
       "    <tr>\n",
       "      <th>2</th>\n",
       "      <td>00_00_02.jpg</td>\n",
       "      <td>0</td>\n",
       "      <td>day</td>\n",
       "      <td>autumn</td>\n",
       "    </tr>\n",
       "    <tr>\n",
       "      <th>3</th>\n",
       "      <td>00_00_03.jpg</td>\n",
       "      <td>0</td>\n",
       "      <td>day</td>\n",
       "      <td>autumn</td>\n",
       "    </tr>\n",
       "    <tr>\n",
       "      <th>4</th>\n",
       "      <td>00_00_04.jpg</td>\n",
       "      <td>0</td>\n",
       "      <td>day</td>\n",
       "      <td>autumn</td>\n",
       "    </tr>\n",
       "    <tr>\n",
       "      <th>...</th>\n",
       "      <td>...</td>\n",
       "      <td>...</td>\n",
       "      <td>...</td>\n",
       "      <td>...</td>\n",
       "    </tr>\n",
       "    <tr>\n",
       "      <th>2945</th>\n",
       "      <td>49_00_05.jpg</td>\n",
       "      <td>49</td>\n",
       "      <td>day</td>\n",
       "      <td>autumn</td>\n",
       "    </tr>\n",
       "    <tr>\n",
       "      <th>2946</th>\n",
       "      <td>49_00_06.jpg</td>\n",
       "      <td>49</td>\n",
       "      <td>day</td>\n",
       "      <td>autumn</td>\n",
       "    </tr>\n",
       "    <tr>\n",
       "      <th>2947</th>\n",
       "      <td>49_00_07.jpg</td>\n",
       "      <td>49</td>\n",
       "      <td>day</td>\n",
       "      <td>autumn</td>\n",
       "    </tr>\n",
       "    <tr>\n",
       "      <th>2948</th>\n",
       "      <td>49_00_08.jpg</td>\n",
       "      <td>49</td>\n",
       "      <td>day</td>\n",
       "      <td>autumn</td>\n",
       "    </tr>\n",
       "    <tr>\n",
       "      <th>2949</th>\n",
       "      <td>49_00_09.jpg</td>\n",
       "      <td>49</td>\n",
       "      <td>day</td>\n",
       "      <td>autumn</td>\n",
       "    </tr>\n",
       "  </tbody>\n",
       "</table>\n",
       "<p>500 rows × 4 columns</p>\n",
       "</div>"
      ],
      "text/plain": [
       "          filepath  label_ids time_of_day  season\n",
       "0     00_00_00.jpg          0         day  autumn\n",
       "1     00_00_01.jpg          0         day  autumn\n",
       "2     00_00_02.jpg          0         day  autumn\n",
       "3     00_00_03.jpg          0         day  autumn\n",
       "4     00_00_04.jpg          0         day  autumn\n",
       "...            ...        ...         ...     ...\n",
       "2945  49_00_05.jpg         49         day  autumn\n",
       "2946  49_00_06.jpg         49         day  autumn\n",
       "2947  49_00_07.jpg         49         day  autumn\n",
       "2948  49_00_08.jpg         49         day  autumn\n",
       "2949  49_00_09.jpg         49         day  autumn\n",
       "\n",
       "[500 rows x 4 columns]"
      ]
     },
     "execution_count": 58,
     "metadata": {},
     "output_type": "execute_result"
    }
   ],
   "source": [
    "br_df.iloc[ids_split_data[\"day-autumn\"], :]"
   ]
  },
  {
   "cell_type": "code",
   "execution_count": 59,
   "id": "ac1a659e-d296-47a6-9175-2f119c2b2e74",
   "metadata": {},
   "outputs": [
    {
     "data": {
      "text/plain": [
       "dict_keys(['day', 'night', 'winter', 'spring', 'autumn', 'day-winter', 'night-winter', 'day-spring', 'night-spring', 'day-autumn', 'night-autumn'])"
      ]
     },
     "execution_count": 59,
     "metadata": {},
     "output_type": "execute_result"
    }
   ],
   "source": [
    "ids_split_data.keys()"
   ]
  },
  {
   "cell_type": "code",
   "execution_count": 60,
   "id": "1a8447c6-fdb6-4f0b-a6c5-25df7709b533",
   "metadata": {},
   "outputs": [],
   "source": [
    "br_df[\"filepath\"] = \"data/images/\" + br_df[\"filepath\"]\n",
    "br_df.to_csv(\"data/data_informations.csv\", index=False)\n",
    "with open(\"data/dictionary_ids.json\", \"w\") as file:\n",
    "    json.dump(ids_split_data, file)"
   ]
  },
  {
   "cell_type": "code",
   "execution_count": 61,
   "id": "895cc89c-434f-4d07-941b-963d26bdda86",
   "metadata": {
    "scrolled": true
   },
   "outputs": [],
   "source": [
    "with open(\"data/dictionary_ids.json\") as file:\n",
    "    data = json.load(file)"
   ]
  },
  {
   "cell_type": "markdown",
   "id": "b654fa3e-1da5-4ccc-8dc1-577721f492ef",
   "metadata": {
    "jp-MarkdownHeadingCollapsed": true
   },
   "source": [
    "## Load images\n",
    "I just wanted to show an example image to get more information about it and how i can harness new dataframe to gather appropriate images."
   ]
  },
  {
   "cell_type": "code",
   "execution_count": 11,
   "id": "c7169c0d-62a7-41be-a64d-2ddfcd6698ab",
   "metadata": {},
   "outputs": [],
   "source": [
    "with Image.open(os.path.join(\"data\", \"images\",br_df[\"filepath\"][0])) as im:\n",
    "    im.show()"
   ]
  },
  {
   "cell_type": "code",
   "execution_count": 12,
   "id": "00c4bdcd-9920-45d7-9a60-cbfb86c919cf",
   "metadata": {},
   "outputs": [],
   "source": [
    "img = Image.open(os.path.join(\"data\", \"images\",br_df[\"filepath\"][0]))"
   ]
  },
  {
   "cell_type": "code",
   "execution_count": 13,
   "id": "80df4eec-2414-4afe-8f50-4b356e832ed4",
   "metadata": {},
   "outputs": [
    {
     "data": {
      "image/jpeg": "[encoded data removed]",
      "image/png": "[encoded data removed]",
      "text/plain": [
       "<PIL.Image.Image image mode=RGB size=224x224>"
      ]
     },
     "execution_count": 13,
     "metadata": {},
     "output_type": "execute_result"
    }
   ],
   "source": [
    "transformed = img.resize((224, 224))\n",
    "transformed"
   ]
  },
  {
   "cell_type": "markdown",
   "id": "9a0b0552-9e9b-46bf-8038-29c1aca1ec8e",
   "metadata": {
    "jp-MarkdownHeadingCollapsed": true
   },
   "source": [
    "## Prepare dataset\n",
    "I created a function which prepare appropriate transfomers dataset. I will experiment on different part of dataset so it is really convient."
   ]
  },
  {
   "cell_type": "code",
   "execution_count": 2,
   "id": "0e39f0b2-7dba-41a6-81c1-e6305c007bfb",
   "metadata": {},
   "outputs": [],
   "source": [
    "with open(\"data/dictionary_ids.json\") as file:\n",
    "    data = json.load(file)"
   ]
  },
  {
   "cell_type": "code",
   "execution_count": 3,
   "id": "edf3c963-dbd1-4f0f-82ee-e523360c5b80",
   "metadata": {},
   "outputs": [
    {
     "data": {
      "text/html": [
       "<div>\n",
       "<style scoped>\n",
       "    .dataframe tbody tr th:only-of-type {\n",
       "        vertical-align: middle;\n",
       "    }\n",
       "\n",
       "    .dataframe tbody tr th {\n",
       "        vertical-align: top;\n",
       "    }\n",
       "\n",
       "    .dataframe thead th {\n",
       "        text-align: right;\n",
       "    }\n",
       "</style>\n",
       "<table border=\"1\" class=\"dataframe\">\n",
       "  <thead>\n",
       "    <tr style=\"text-align: right;\">\n",
       "      <th></th>\n",
       "      <th>filepath</th>\n",
       "      <th>label_ids</th>\n",
       "      <th>time_of_day</th>\n",
       "      <th>season</th>\n",
       "    </tr>\n",
       "  </thead>\n",
       "  <tbody>\n",
       "    <tr>\n",
       "      <th>0</th>\n",
       "      <td>data/images/00_00_00.jpg</td>\n",
       "      <td>0</td>\n",
       "      <td>day</td>\n",
       "      <td>autumn</td>\n",
       "    </tr>\n",
       "    <tr>\n",
       "      <th>1</th>\n",
       "      <td>data/images/00_00_01.jpg</td>\n",
       "      <td>0</td>\n",
       "      <td>day</td>\n",
       "      <td>autumn</td>\n",
       "    </tr>\n",
       "    <tr>\n",
       "      <th>2</th>\n",
       "      <td>data/images/00_00_02.jpg</td>\n",
       "      <td>0</td>\n",
       "      <td>day</td>\n",
       "      <td>autumn</td>\n",
       "    </tr>\n",
       "    <tr>\n",
       "      <th>3</th>\n",
       "      <td>data/images/00_00_03.jpg</td>\n",
       "      <td>0</td>\n",
       "      <td>day</td>\n",
       "      <td>autumn</td>\n",
       "    </tr>\n",
       "    <tr>\n",
       "      <th>4</th>\n",
       "      <td>data/images/00_00_04.jpg</td>\n",
       "      <td>0</td>\n",
       "      <td>day</td>\n",
       "      <td>autumn</td>\n",
       "    </tr>\n",
       "    <tr>\n",
       "      <th>...</th>\n",
       "      <td>...</td>\n",
       "      <td>...</td>\n",
       "      <td>...</td>\n",
       "      <td>...</td>\n",
       "    </tr>\n",
       "    <tr>\n",
       "      <th>2995</th>\n",
       "      <td>data/images/49_05_05.jpg</td>\n",
       "      <td>49</td>\n",
       "      <td>night</td>\n",
       "      <td>spring</td>\n",
       "    </tr>\n",
       "    <tr>\n",
       "      <th>2996</th>\n",
       "      <td>data/images/49_05_06.jpg</td>\n",
       "      <td>49</td>\n",
       "      <td>night</td>\n",
       "      <td>spring</td>\n",
       "    </tr>\n",
       "    <tr>\n",
       "      <th>2997</th>\n",
       "      <td>data/images/49_05_07.jpg</td>\n",
       "      <td>49</td>\n",
       "      <td>night</td>\n",
       "      <td>spring</td>\n",
       "    </tr>\n",
       "    <tr>\n",
       "      <th>2998</th>\n",
       "      <td>data/images/49_05_08.jpg</td>\n",
       "      <td>49</td>\n",
       "      <td>night</td>\n",
       "      <td>spring</td>\n",
       "    </tr>\n",
       "    <tr>\n",
       "      <th>2999</th>\n",
       "      <td>data/images/49_05_09.jpg</td>\n",
       "      <td>49</td>\n",
       "      <td>night</td>\n",
       "      <td>spring</td>\n",
       "    </tr>\n",
       "  </tbody>\n",
       "</table>\n",
       "<p>3000 rows × 4 columns</p>\n",
       "</div>"
      ],
      "text/plain": [
       "                      filepath  label_ids time_of_day  season\n",
       "0     data/images/00_00_00.jpg          0         day  autumn\n",
       "1     data/images/00_00_01.jpg          0         day  autumn\n",
       "2     data/images/00_00_02.jpg          0         day  autumn\n",
       "3     data/images/00_00_03.jpg          0         day  autumn\n",
       "4     data/images/00_00_04.jpg          0         day  autumn\n",
       "...                        ...        ...         ...     ...\n",
       "2995  data/images/49_05_05.jpg         49       night  spring\n",
       "2996  data/images/49_05_06.jpg         49       night  spring\n",
       "2997  data/images/49_05_07.jpg         49       night  spring\n",
       "2998  data/images/49_05_08.jpg         49       night  spring\n",
       "2999  data/images/49_05_09.jpg         49       night  spring\n",
       "\n",
       "[3000 rows x 4 columns]"
      ]
     },
     "execution_count": 3,
     "metadata": {},
     "output_type": "execute_result"
    }
   ],
   "source": [
    "df_information = pd.read_csv(\"data/data_informations.csv\")\n",
    "df_information"
   ]
  },
  {
   "cell_type": "code",
   "execution_count": 4,
   "id": "654237d6-a54e-44ab-808b-c66dea8daf98",
   "metadata": {},
   "outputs": [
    {
     "data": {
      "text/plain": [
       "1500"
      ]
     },
     "execution_count": 4,
     "metadata": {},
     "output_type": "execute_result"
    }
   ],
   "source": [
    "ids = data['day']\n",
    "len(df_information.iloc[ids, 1].to_list())"
   ]
  },
  {
   "cell_type": "code",
   "execution_count": 5,
   "id": "7dd42dd7-4209-4ad2-bb1e-31c6ce673c7f",
   "metadata": {},
   "outputs": [],
   "source": [
    "def create_dataset(test_ids: list[int], df: pd.DataFrame) -> tuple[DatasetDict, Dataset]:\n",
    "    test_ids_set = set(test_ids)\n",
    "    all_indices = set(df.index)\n",
    "    train_ids = list(all_indices - test_ids_set)\n",
    "    \n",
    "    train_dataset = Dataset.from_dict({\n",
    "        \"image\": df.iloc[train_ids, 0].to_list(),\n",
    "        \"label\": df.iloc[train_ids, 1].to_list()\n",
    "    }).cast_column(\"image\", Image())\n",
    "\n",
    "\n",
    "    train_val_dataset = train_dataset.class_encode_column(\"label\").train_test_split(test_size=0.1, seed=42, stratify_by_column='label')\n",
    "    test_dataset = Dataset.from_dict({\n",
    "        \"image\": df.iloc[test_ids, 0].to_list(),\n",
    "        \"label\": df.iloc[test_ids, 1].to_list()\n",
    "    }).cast_column(\"image\", Image())\n",
    "\n",
    "    return train_val_dataset, test_dataset\n",
    "\n",
    "def apply_transforms(examples):\n",
    "    examples[\"pixel_values\"] = [dataset_transform(image.convert(\"RGB\")) for image in examples[\"image\"]]\n",
    "    return examples\n",
    "\n",
    "def collate_fn(examples):\n",
    "    pixel_values = torch.stack([example[\"pixel_values\"] for example in examples])\n",
    "    labels = torch.tensor([example[\"label\"] for example in examples])\n",
    "    return {\"pixel_values\": pixel_values, \"labels\": labels}"
   ]
  },
  {
   "cell_type": "code",
   "execution_count": 6,
   "id": "efcf03e0-e83f-41a9-8c8e-29b57616b93c",
   "metadata": {},
   "outputs": [],
   "source": [
    "processor = ViTImageProcessor(\"models/google/processor\")\n",
    "\n",
    "image_mean, image_std = processor.image_mean, processor.image_std\n",
    "size = processor.size[\"height\"]\n",
    "\n",
    "normalize = Normalize(mean=image_mean, std=image_std)\n",
    "\n",
    "dataset_transform = Compose([\n",
    "    Resize(size),\n",
    "    CenterCrop((size, size)),\n",
    "    ToTensor(),\n",
    "    normalize,\n",
    "])"
   ]
  },
  {
   "cell_type": "code",
   "execution_count": 7,
   "id": "a5578f0b-3244-4810-a318-b6fa2501b541",
   "metadata": {},
   "outputs": [
    {
     "name": "stderr",
     "output_type": "stream",
     "text": [
      "Stringifying the column: 100%|███████████████████████████████████████████████████████████████████████████████████████████████████████████████████████████████████████████████| 1500/1500 [00:00<00:00, 374647.53 examples/s]\n",
      "Casting to class labels: 100%|███████████████████████████████████████████████████████████████████████████████████████████████████████████████████████████████████████████████| 1500/1500 [00:00<00:00, 249700.59 examples/s]\n"
     ]
    }
   ],
   "source": [
    "train_val_dataset, test_dataset = create_dataset(ids, df_information)"
   ]
  },
  {
   "cell_type": "code",
   "execution_count": 8,
   "id": "8823f4b5-29a4-46d0-8fcc-9b7fae78686c",
   "metadata": {},
   "outputs": [],
   "source": [
    "train_dataset, val_dataset = train_val_dataset[\"train\"], train_val_dataset[\"test\"]"
   ]
  },
  {
   "cell_type": "code",
   "execution_count": 9,
   "id": "54df9340-32ee-40fb-a17d-6f2da972a489",
   "metadata": {},
   "outputs": [],
   "source": [
    "train_dataset.set_transform(apply_transforms)\n",
    "val_dataset.set_transform(apply_transforms)\n",
    "test_dataset.set_transform(apply_transforms)\n",
    "train_dataloader = DataLoader(train_dataset, collate_fn=collate_fn, batch_size=8)"
   ]
  },
  {
   "cell_type": "code",
   "execution_count": 10,
   "id": "ab798a24-6a7e-4177-9645-a7f260dbf4b7",
   "metadata": {},
   "outputs": [
    {
     "name": "stdout",
     "output_type": "stream",
     "text": [
      "pixel_values torch.Size([8, 3, 224, 224])\n",
      "labels torch.Size([8])\n"
     ]
    }
   ],
   "source": [
    "batch = next(iter(train_dataloader))\n",
    "for k, v in batch.items():\n",
    "    if isinstance(v, torch.Tensor):\n",
    "        print(k, v.shape)"
   ]
  },
  {
   "cell_type": "markdown",
   "id": "6662a625-53cd-4781-8a49-7c2f2d04bdea",
   "metadata": {
    "jp-MarkdownHeadingCollapsed": true
   },
   "source": [
    "## Configure model\n",
    "So in this part I will confiugre trainin arguments for trainer object. Thanks to this we can set an apprioratie batch size etc."
   ]
  },
  {
   "cell_type": "code",
   "execution_count": 11,
   "id": "0bf69d36-404f-4bab-baaf-eb625da5b68b",
   "metadata": {},
   "outputs": [],
   "source": [
    "model = ViTForImageClassification.from_pretrained(\"models/google/model\")"
   ]
  },
  {
   "cell_type": "code",
   "execution_count": 12,
   "id": "e74c3763-b8da-4e33-bc60-eb941a4705ee",
   "metadata": {},
   "outputs": [
    {
     "data": {
      "text/plain": [
       "50"
      ]
     },
     "execution_count": 12,
     "metadata": {},
     "output_type": "execute_result"
    }
   ],
   "source": [
    "model.num_labels"
   ]
  },
  {
   "cell_type": "code",
   "execution_count": 13,
   "id": "e91cdc68-5890-47fa-86aa-cd0b2b7148e8",
   "metadata": {},
   "outputs": [],
   "source": [
    "train_args = TrainingArguments(\n",
    "    output_dir=\"models-info\",\n",
    "    save_strategy=\"no\",\n",
    "    report_to=\"wandb\",\n",
    "    logging_strategy=\"epoch\",\n",
    "    eval_strategy=\"epoch\",\n",
    "    learning_rate=2e-5,\n",
    "    num_train_epochs=10,\n",
    "    run_name=\"google-model-first-try\",\n",
    "    weight_decay=0.01,\n",
    "    logging_dir=\"logs\",\n",
    "    remove_unused_columns=False,\n",
    "    per_device_train_batch_size=16,\n",
    "    per_device_eval_batch_size=32,\n",
    ")"
   ]
  },
  {
   "cell_type": "code",
   "execution_count": 14,
   "id": "dd50371b-1418-4e6e-ab6e-896dafe65065",
   "metadata": {},
   "outputs": [],
   "source": [
    "accuracy_metric = evaluate.load(\"accuracy\")\n",
    "f1_metric = evaluate.load(\"f1\")\n",
    "\n",
    "def compute_metrics(eval_pred):\n",
    "    logits, labels = eval_pred\n",
    "    predictions = logits.argmax(axis=-1)\n",
    "    accuracy = accuracy_metric.compute(predictions=predictions, references=labels)\n",
    "    f1 = f1_metric.compute(predictions=predictions, references=labels, average=\"weighted\")\n",
    "    return {\"accuracy\": accuracy[\"accuracy\"], \"f1\": f1[\"f1\"]}"
   ]
  },
  {
   "cell_type": "code",
   "execution_count": 15,
   "id": "417ad1de-c597-4221-a933-5e39f9ed2e2d",
   "metadata": {},
   "outputs": [
    {
     "name": "stderr",
     "output_type": "stream",
     "text": [
      "C:\\Users\\urbii\\AppData\\Local\\Temp\\ipykernel_27520\\3142966030.py:1: FutureWarning: `tokenizer` is deprecated and will be removed in version 5.0.0 for `Trainer.__init__`. Use `processing_class` instead.\n",
      "  trainer = Trainer(\n"
     ]
    },
    {
     "data": {
      "text/html": [
       "Changes to your `wandb` environment variables will be ignored because your `wandb` session has already started. For more information on how to modify your settings with `wandb.init()` arguments, please refer to <a href='https://wandb.me/wandb-init' target=\"_blank\">the W&B docs</a>."
      ],
      "text/plain": [
       "<IPython.core.display.HTML object>"
      ]
     },
     "metadata": {},
     "output_type": "display_data"
    },
    {
     "name": "stderr",
     "output_type": "stream",
     "text": [
      "wandb: Using wandb-core as the SDK backend.  Please refer to https://wandb.me/wandb-core for more information.\n"
     ]
    },
    {
     "data": {
      "text/html": [
       "Tracking run with wandb version 0.19.4"
      ],
      "text/plain": [
       "<IPython.core.display.HTML object>"
      ]
     },
     "metadata": {},
     "output_type": "display_data"
    },
    {
     "data": {
      "text/html": [
       "Run data is saved locally in <code>C:\\Users\\urbii\\Desktop\\Projekty\\Image_classification_VIT\\wandb\\run-20250120_093727-ldy6n6ia</code>"
      ],
      "text/plain": [
       "<IPython.core.display.HTML object>"
      ]
     },
     "metadata": {},
     "output_type": "display_data"
    },
    {
     "data": {
      "text/html": [
       "Syncing run <strong><a href='https://wandb.ai/urbankacper613-politechnika-rzeszowska-im-i-ukasiewicza/Classification-BR-VIT/runs/ldy6n6ia' target=\"_blank\">google-model-first-try</a></strong> to <a href='https://wandb.ai/urbankacper613-politechnika-rzeszowska-im-i-ukasiewicza/Classification-BR-VIT' target=\"_blank\">Weights & Biases</a> (<a href='https://wandb.me/developer-guide' target=\"_blank\">docs</a>)<br>"
      ],
      "text/plain": [
       "<IPython.core.display.HTML object>"
      ]
     },
     "metadata": {},
     "output_type": "display_data"
    },
    {
     "data": {
      "text/html": [
       " View project at <a href='https://wandb.ai/urbankacper613-politechnika-rzeszowska-im-i-ukasiewicza/Classification-BR-VIT' target=\"_blank\">https://wandb.ai/urbankacper613-politechnika-rzeszowska-im-i-ukasiewicza/Classification-BR-VIT</a>"
      ],
      "text/plain": [
       "<IPython.core.display.HTML object>"
      ]
     },
     "metadata": {},
     "output_type": "display_data"
    },
    {
     "data": {
      "text/html": [
       " View run at <a href='https://wandb.ai/urbankacper613-politechnika-rzeszowska-im-i-ukasiewicza/Classification-BR-VIT/runs/ldy6n6ia' target=\"_blank\">https://wandb.ai/urbankacper613-politechnika-rzeszowska-im-i-ukasiewicza/Classification-BR-VIT/runs/ldy6n6ia</a>"
      ],
      "text/plain": [
       "<IPython.core.display.HTML object>"
      ]
     },
     "metadata": {},
     "output_type": "display_data"
    },
    {
     "data": {
      "text/html": [
       "\n",
       "    <div>\n",
       "      \n",
       "      <progress value='850' max='850' style='width:300px; height:20px; vertical-align: middle;'></progress>\n",
       "      [850/850 06:12, Epoch 10/10]\n",
       "    </div>\n",
       "    <table border=\"1\" class=\"dataframe\">\n",
       "  <thead>\n",
       " <tr style=\"text-align: left;\">\n",
       "      <th>Epoch</th>\n",
       "      <th>Training Loss</th>\n",
       "      <th>Validation Loss</th>\n",
       "      <th>Accuracy</th>\n",
       "      <th>F1</th>\n",
       "    </tr>\n",
       "  </thead>\n",
       "  <tbody>\n",
       "    <tr>\n",
       "      <td>1</td>\n",
       "      <td>3.382100</td>\n",
       "      <td>2.546983</td>\n",
       "      <td>0.700000</td>\n",
       "      <td>0.679988</td>\n",
       "    </tr>\n",
       "    <tr>\n",
       "      <td>2</td>\n",
       "      <td>1.676400</td>\n",
       "      <td>1.334576</td>\n",
       "      <td>0.960000</td>\n",
       "      <td>0.957762</td>\n",
       "    </tr>\n",
       "    <tr>\n",
       "      <td>3</td>\n",
       "      <td>0.632500</td>\n",
       "      <td>0.675766</td>\n",
       "      <td>0.980000</td>\n",
       "      <td>0.979810</td>\n",
       "    </tr>\n",
       "    <tr>\n",
       "      <td>4</td>\n",
       "      <td>0.216000</td>\n",
       "      <td>0.385602</td>\n",
       "      <td>0.980000</td>\n",
       "      <td>0.979429</td>\n",
       "    </tr>\n",
       "    <tr>\n",
       "      <td>5</td>\n",
       "      <td>0.080900</td>\n",
       "      <td>0.261753</td>\n",
       "      <td>0.986667</td>\n",
       "      <td>0.986286</td>\n",
       "    </tr>\n",
       "    <tr>\n",
       "      <td>6</td>\n",
       "      <td>0.040900</td>\n",
       "      <td>0.222024</td>\n",
       "      <td>0.980000</td>\n",
       "      <td>0.979810</td>\n",
       "    </tr>\n",
       "    <tr>\n",
       "      <td>7</td>\n",
       "      <td>0.028800</td>\n",
       "      <td>0.204345</td>\n",
       "      <td>0.980000</td>\n",
       "      <td>0.979810</td>\n",
       "    </tr>\n",
       "    <tr>\n",
       "      <td>8</td>\n",
       "      <td>0.023400</td>\n",
       "      <td>0.195197</td>\n",
       "      <td>0.980000</td>\n",
       "      <td>0.979810</td>\n",
       "    </tr>\n",
       "    <tr>\n",
       "      <td>9</td>\n",
       "      <td>0.020700</td>\n",
       "      <td>0.189770</td>\n",
       "      <td>0.980000</td>\n",
       "      <td>0.979810</td>\n",
       "    </tr>\n",
       "    <tr>\n",
       "      <td>10</td>\n",
       "      <td>0.019100</td>\n",
       "      <td>0.188592</td>\n",
       "      <td>0.980000</td>\n",
       "      <td>0.979810</td>\n",
       "    </tr>\n",
       "  </tbody>\n",
       "</table><p>"
      ],
      "text/plain": [
       "<IPython.core.display.HTML object>"
      ]
     },
     "metadata": {},
     "output_type": "display_data"
    },
    {
     "data": {
      "text/plain": [
       "TrainOutput(global_step=850, training_loss=0.6120799392812393, metrics={'train_runtime': 373.4219, 'train_samples_per_second': 36.152, 'train_steps_per_second': 2.276, 'total_flos': 1.046591919249408e+18, 'train_loss': 0.6120799392812393, 'epoch': 10.0})"
      ]
     },
     "execution_count": 15,
     "metadata": {},
     "output_type": "execute_result"
    }
   ],
   "source": [
    "trainer = Trainer(\n",
    "    model,\n",
    "    train_args,\n",
    "    train_dataset=train_dataset,\n",
    "    eval_dataset=val_dataset,\n",
    "    data_collator=collate_fn,\n",
    "    tokenizer=processor,\n",
    "    compute_metrics=compute_metrics,\n",
    ")\n",
    "trainer.train()"
   ]
  },
  {
   "cell_type": "code",
   "execution_count": 16,
   "id": "b1b1ae01-96e1-4e71-8c3b-6c556f3507f7",
   "metadata": {
    "scrolled": true
   },
   "outputs": [
    {
     "data": {
      "text/html": [],
      "text/plain": [
       "<IPython.core.display.HTML object>"
      ]
     },
     "metadata": {},
     "output_type": "display_data"
    }
   ],
   "source": [
    "outputs = trainer.predict(test_dataset)"
   ]
  },
  {
   "cell_type": "code",
   "execution_count": 38,
   "id": "e7513f78-180b-4720-8900-13316f4e0d5c",
   "metadata": {},
   "outputs": [
    {
     "name": "stdout",
     "output_type": "stream",
     "text": [
      "Accuracy: 0.037, f1-score: 0.034\n"
     ]
    }
   ],
   "source": [
    "print(f\"Accuracy: {np.round(outputs.metrics['test_accuracy'], 3)}, f1-score: {np.round(outputs.metrics['test_f1'], 3)}\")"
   ]
  },
  {
   "cell_type": "code",
   "execution_count": 77,
   "id": "0d33671c-3d56-4f3e-8726-fb97970a7b84",
   "metadata": {},
   "outputs": [
    {
     "data": {
      "image/png": "[encoded data removed]",
      "text/plain": [
       "<Figure size 1200x800 with 2 Axes>"
      ]
     },
     "metadata": {},
     "output_type": "display_data"
    }
   ],
   "source": [
    "y_true = outputs.label_ids\n",
    "y_pred = outputs.predictions.argmax(1)\n",
    "\n",
    "cm = confusion_matrix(y_true, y_pred)\n",
    "disp = ConfusionMatrixDisplay(confusion_matrix=cm)\n",
    "fig, ax = plt.subplots(figsize=(12, 8))\n",
    "sns.heatmap(cm, ax=ax, annot=True)\n",
    "plt.tight_layout()\n",
    "plt.show()"
   ]
  },
  {
   "cell_type": "code",
   "execution_count": 94,
   "id": "32900970-7bee-4985-b809-8c42c63193c4",
   "metadata": {},
   "outputs": [],
   "source": [
    "_ = wandb.finish()"
   ]
  },
  {
   "cell_type": "markdown",
   "id": "39932f53-40c7-4b63-bc51-de7ae1827231",
   "metadata": {},
   "source": [
    "## Experiments"
   ]
  },
  {
   "cell_type": "markdown",
   "id": "8e0d2a42-c389-451b-8049-56fb2a7a8819",
   "metadata": {},
   "source": [
    "### Helper functions\n",
    "This functions should prevent redudancy. Also I placed it here, because I want to omit previous code and just start from here."
   ]
  },
  {
   "cell_type": "code",
   "execution_count": 5,
   "id": "6ce840a7-4465-4cad-9cf6-85bf385592f5",
   "metadata": {},
   "outputs": [],
   "source": [
    "accuracy_metric = evaluate.load(\"accuracy\")\n",
    "f1_metric = evaluate.load(\"f1\")"
   ]
  },
  {
   "cell_type": "code",
   "execution_count": 18,
   "id": "b1ee750c-871e-4928-88f8-c81d0aae535e",
   "metadata": {},
   "outputs": [],
   "source": [
    "def create_dataset(test_ids: list[int], df: pd.DataFrame) -> tuple[DatasetDict, Dataset]:\n",
    "    test_ids_set = set(test_ids)\n",
    "    all_indices = set(df.index)\n",
    "    train_ids = list(all_indices - test_ids_set)\n",
    "    \n",
    "    train_dataset = Dataset.from_dict({\n",
    "        \"image\": df.iloc[train_ids, 0].to_list(),\n",
    "        \"label\": df.iloc[train_ids, 1].to_list()\n",
    "    }).cast_column(\"image\", Image())\n",
    "\n",
    "\n",
    "    train_val_dataset = train_dataset.class_encode_column(\"label\").train_test_split(test_size=0.1, seed=42, stratify_by_column='label')\n",
    "    test_dataset = Dataset.from_dict({\n",
    "        \"image\": df.iloc[test_ids, 0].to_list(),\n",
    "        \"label\": df.iloc[test_ids, 1].to_list()\n",
    "    }).cast_column(\"image\", Image())\n",
    "\n",
    "    return train_val_dataset, test_dataset\n",
    "\n",
    "def apply_transforms(examples, dataset_transform):\n",
    "    examples[\"pixel_values\"] = [dataset_transform(image.convert(\"RGB\")) for image in examples[\"image\"]]\n",
    "    return examples\n",
    "\n",
    "def collate_fn(examples):\n",
    "    pixel_values = torch.stack([example[\"pixel_values\"] for example in examples])\n",
    "    labels = torch.tensor([example[\"label\"] for example in examples])\n",
    "    return {\"pixel_values\": pixel_values, \"labels\": labels}"
   ]
  },
  {
   "cell_type": "code",
   "execution_count": 39,
   "id": "bebaa269-147f-4e0f-a0ed-302498ad732e",
   "metadata": {},
   "outputs": [],
   "source": [
    "def prepare_dataset(processor, train_dataset, val_dataset, test_dataset):\n",
    "    try:\n",
    "        image_mean, image_std = processor.image_mean, processor.image_std\n",
    "        size = processor.size[\"height\"]\n",
    "        \n",
    "        normalize = Normalize(mean=image_mean, std=image_std)\n",
    "        \n",
    "        dataset_transform = Compose([\n",
    "            Resize(size),\n",
    "            CenterCrop((size, size)),\n",
    "            ToTensor(),\n",
    "            normalize,\n",
    "        ])\n",
    "    except:\n",
    "        size = processor.crop_size[\"height\"]\n",
    "        \n",
    "        dataset_transform = Compose([\n",
    "            Resize(size),\n",
    "            CenterCrop((size, size)),\n",
    "            ToTensor(),\n",
    "        ])\n",
    "    \n",
    "    train_dataset.set_transform(lambda examples: apply_transforms(examples, dataset_transform))\n",
    "    val_dataset.set_transform(lambda examples: apply_transforms(examples, dataset_transform))\n",
    "    test_dataset.set_transform(lambda examples: apply_transforms(examples, dataset_transform))\n",
    "    return train_dataset, val_dataset, test_dataset\n",
    "\n",
    "\n",
    "def train_model(model: ViTForImageClassification | BeitForImageClassification | MobileViTForImageClassification, \n",
    "                processor: ViTImageProcessor | BeitImageProcessor | MobileViTImageProcessor, \n",
    "                train_dataset: Dataset, val_dataset: Dataset, run_name: str) -> Trainer:\n",
    "    def compute_metrics(eval_pred):\n",
    "        logits, labels = eval_pred\n",
    "        predictions = logits.argmax(axis=-1)\n",
    "        accuracy = accuracy_metric.compute(predictions=predictions, references=labels)\n",
    "        f1 = f1_metric.compute(predictions=predictions, references=labels, average=\"weighted\")\n",
    "        return {\"accuracy\": accuracy[\"accuracy\"], \"f1\": f1[\"f1\"]}\n",
    "        \n",
    "    train_args = TrainingArguments(\n",
    "        output_dir=\"models-info\",\n",
    "        report_to=\"wandb\",\n",
    "        save_strategy=\"no\",\n",
    "        logging_strategy=\"epoch\",\n",
    "        eval_strategy=\"epoch\",\n",
    "        learning_rate=2e-5,\n",
    "        num_train_epochs=10,\n",
    "        run_name=run_name,\n",
    "        weight_decay=0.01,\n",
    "        logging_dir=\"logs\",\n",
    "        remove_unused_columns=False,\n",
    "        per_device_train_batch_size=16,\n",
    "        per_device_eval_batch_size=32,\n",
    "    )\n",
    "\n",
    "    trainer = Trainer(\n",
    "        model,\n",
    "        train_args,\n",
    "        train_dataset=train_dataset,\n",
    "        eval_dataset=val_dataset,\n",
    "        data_collator=collate_fn,\n",
    "        tokenizer=processor,\n",
    "        compute_metrics=compute_metrics,\n",
    "    )\n",
    "    trainer.train()\n",
    "    return trainer"
   ]
  },
  {
   "cell_type": "markdown",
   "id": "7b377afa-f9cb-4582-af43-8c3e4528edbc",
   "metadata": {},
   "source": [
    "### Testing on day data (excluded from training data)"
   ]
  },
  {
   "cell_type": "code",
   "execution_count": 20,
   "id": "c2fc126a-7fee-4cb4-b44b-6c371945cb94",
   "metadata": {},
   "outputs": [],
   "source": [
    "with open(\"data/dictionary_ids.json\") as file:\n",
    "    data = json.load(file)\n",
    "\n",
    "df_information = pd.read_csv(\"data/data_informations.csv\")\n",
    "ids = data['day']"
   ]
  },
  {
   "cell_type": "code",
   "execution_count": 21,
   "id": "a53e0742-4092-4577-810a-d39e858c1f82",
   "metadata": {},
   "outputs": [
    {
     "name": "stderr",
     "output_type": "stream",
     "text": [
      "Stringifying the column: 100%|███████████████████████████████████████████████████████████████████████████████████████████████████████████████████████████████████████████████| 1500/1500 [00:00<00:00, 335133.22 examples/s]\n",
      "Casting to class labels: 100%|███████████████████████████████████████████████████████████████████████████████████████████████████████████████████████████████████████████████| 1500/1500 [00:00<00:00, 234083.27 examples/s]\n"
     ]
    }
   ],
   "source": [
    "train_val_dataset, test_dataset = create_dataset(ids, df_information)\n",
    "train_dataset, val_dataset = train_val_dataset[\"train\"], train_val_dataset[\"test\"]"
   ]
  },
  {
   "cell_type": "markdown",
   "id": "750fd288-c462-494b-b39d-449429337f31",
   "metadata": {},
   "source": [
    "#### Google ViT"
   ]
  },
  {
   "cell_type": "code",
   "execution_count": 22,
   "id": "ab160643-11f4-4260-806e-bd4199513cbd",
   "metadata": {},
   "outputs": [],
   "source": [
    "model = ViTForImageClassification.from_pretrained(\"models/google/model\")\n",
    "processor = ViTImageProcessor.from_pretrained(\"models/google/processor\")"
   ]
  },
  {
   "cell_type": "code",
   "execution_count": 23,
   "id": "bf110d9f-f4bc-49cc-99c2-8743df05a689",
   "metadata": {},
   "outputs": [],
   "source": [
    "train_dataset_google, val_dataset_google, test_dataset_google = prepare_dataset(processor, train_dataset, val_dataset, test_dataset)"
   ]
  },
  {
   "cell_type": "code",
   "execution_count": 24,
   "id": "419c4a2c-a53f-40a5-9a95-f754e433fb19",
   "metadata": {},
   "outputs": [
    {
     "name": "stderr",
     "output_type": "stream",
     "text": [
      "C:\\Users\\urbii\\AppData\\Local\\Temp\\ipykernel_33396\\404833092.py:46: FutureWarning: `tokenizer` is deprecated and will be removed in version 5.0.0 for `Trainer.__init__`. Use `processing_class` instead.\n",
      "  trainer = Trainer(\n"
     ]
    },
    {
     "data": {
      "text/html": [
       "\n",
       "    <div>\n",
       "      \n",
       "      <progress value='850' max='850' style='width:300px; height:20px; vertical-align: middle;'></progress>\n",
       "      [850/850 06:10, Epoch 10/10]\n",
       "    </div>\n",
       "    <table border=\"1\" class=\"dataframe\">\n",
       "  <thead>\n",
       " <tr style=\"text-align: left;\">\n",
       "      <th>Epoch</th>\n",
       "      <th>Training Loss</th>\n",
       "      <th>Validation Loss</th>\n",
       "      <th>Accuracy</th>\n",
       "      <th>F1</th>\n",
       "    </tr>\n",
       "  </thead>\n",
       "  <tbody>\n",
       "    <tr>\n",
       "      <td>1</td>\n",
       "      <td>3.382100</td>\n",
       "      <td>2.546983</td>\n",
       "      <td>0.700000</td>\n",
       "      <td>0.679988</td>\n",
       "    </tr>\n",
       "    <tr>\n",
       "      <td>2</td>\n",
       "      <td>1.676400</td>\n",
       "      <td>1.334576</td>\n",
       "      <td>0.960000</td>\n",
       "      <td>0.957762</td>\n",
       "    </tr>\n",
       "    <tr>\n",
       "      <td>3</td>\n",
       "      <td>0.632500</td>\n",
       "      <td>0.675766</td>\n",
       "      <td>0.980000</td>\n",
       "      <td>0.979810</td>\n",
       "    </tr>\n",
       "    <tr>\n",
       "      <td>4</td>\n",
       "      <td>0.216000</td>\n",
       "      <td>0.385602</td>\n",
       "      <td>0.980000</td>\n",
       "      <td>0.979429</td>\n",
       "    </tr>\n",
       "    <tr>\n",
       "      <td>5</td>\n",
       "      <td>0.080900</td>\n",
       "      <td>0.261753</td>\n",
       "      <td>0.986667</td>\n",
       "      <td>0.986286</td>\n",
       "    </tr>\n",
       "    <tr>\n",
       "      <td>6</td>\n",
       "      <td>0.040900</td>\n",
       "      <td>0.222024</td>\n",
       "      <td>0.980000</td>\n",
       "      <td>0.979810</td>\n",
       "    </tr>\n",
       "    <tr>\n",
       "      <td>7</td>\n",
       "      <td>0.028800</td>\n",
       "      <td>0.204345</td>\n",
       "      <td>0.980000</td>\n",
       "      <td>0.979810</td>\n",
       "    </tr>\n",
       "    <tr>\n",
       "      <td>8</td>\n",
       "      <td>0.023400</td>\n",
       "      <td>0.195197</td>\n",
       "      <td>0.980000</td>\n",
       "      <td>0.979810</td>\n",
       "    </tr>\n",
       "    <tr>\n",
       "      <td>9</td>\n",
       "      <td>0.020700</td>\n",
       "      <td>0.189770</td>\n",
       "      <td>0.980000</td>\n",
       "      <td>0.979810</td>\n",
       "    </tr>\n",
       "    <tr>\n",
       "      <td>10</td>\n",
       "      <td>0.019100</td>\n",
       "      <td>0.188592</td>\n",
       "      <td>0.980000</td>\n",
       "      <td>0.979810</td>\n",
       "    </tr>\n",
       "  </tbody>\n",
       "</table><p>"
      ],
      "text/plain": [
       "<IPython.core.display.HTML object>"
      ]
     },
     "metadata": {},
     "output_type": "display_data"
    }
   ],
   "source": [
    "trained_model = train_model(model, processor, train_dataset_google, val_dataset_google, \"google-day\")"
   ]
  },
  {
   "cell_type": "code",
   "execution_count": 25,
   "id": "8a52bc9e-850c-4d71-81ec-37763477ad7c",
   "metadata": {},
   "outputs": [
    {
     "data": {
      "text/html": [],
      "text/plain": [
       "<IPython.core.display.HTML object>"
      ]
     },
     "metadata": {},
     "output_type": "display_data"
    },
    {
     "name": "stdout",
     "output_type": "stream",
     "text": [
      "Accuracy: 0.037, f1-score: 0.034\n"
     ]
    }
   ],
   "source": [
    "outputs = trained_model.predict(test_dataset_google)\n",
    "print(f\"Accuracy: {np.round(outputs.metrics['test_accuracy'], 3)}, f1-score: {np.round(outputs.metrics['test_f1'], 3)}\")"
   ]
  },
  {
   "cell_type": "code",
   "execution_count": null,
   "id": "55994bce-e27b-4979-af84-0259a47cdbd1",
   "metadata": {},
   "outputs": [],
   "source": [
    "wandb.finish()"
   ]
  },
  {
   "cell_type": "markdown",
   "id": "f69dea1c-741e-4e7e-8904-efaf50fd2f68",
   "metadata": {},
   "source": [
    "#### Microsoft ViT"
   ]
  },
  {
   "cell_type": "code",
   "execution_count": 28,
   "id": "a60a3255-96ea-4462-9452-776f7730f504",
   "metadata": {},
   "outputs": [],
   "source": [
    "model = BeitForImageClassification.from_pretrained(\"models/microsoft/model\")\n",
    "processor = BeitImageProcessor.from_pretrained(\"models/microsoft/processor\")"
   ]
  },
  {
   "cell_type": "code",
   "execution_count": 29,
   "id": "1a7693f4-937b-4146-95ec-817b38a9a0d7",
   "metadata": {},
   "outputs": [],
   "source": [
    "train_dataset_microsoft, val_dataset_microsoft, test_dataset_microsoft = prepare_dataset(processor, train_dataset, val_dataset, test_dataset)"
   ]
  },
  {
   "cell_type": "code",
   "execution_count": 30,
   "id": "6cead596-aaa7-4090-b82a-74dfe47acd55",
   "metadata": {},
   "outputs": [
    {
     "name": "stderr",
     "output_type": "stream",
     "text": [
      "C:\\Users\\urbii\\AppData\\Local\\Temp\\ipykernel_33396\\404833092.py:46: FutureWarning: `tokenizer` is deprecated and will be removed in version 5.0.0 for `Trainer.__init__`. Use `processing_class` instead.\n",
      "  trainer = Trainer(\n"
     ]
    },
    {
     "data": {
      "text/html": [
       "Changes to your `wandb` environment variables will be ignored because your `wandb` session has already started. For more information on how to modify your settings with `wandb.init()` arguments, please refer to <a href='https://wandb.me/wandb-init' target=\"_blank\">the W&B docs</a>."
      ],
      "text/plain": [
       "<IPython.core.display.HTML object>"
      ]
     },
     "metadata": {},
     "output_type": "display_data"
    },
    {
     "data": {
      "text/html": [
       "Tracking run with wandb version 0.19.4"
      ],
      "text/plain": [
       "<IPython.core.display.HTML object>"
      ]
     },
     "metadata": {},
     "output_type": "display_data"
    },
    {
     "data": {
      "text/html": [
       "Run data is saved locally in <code>C:\\Users\\urbii\\Desktop\\Projekty\\Image_classification_VIT\\wandb\\run-20250120_111343-tpdu59iq</code>"
      ],
      "text/plain": [
       "<IPython.core.display.HTML object>"
      ]
     },
     "metadata": {},
     "output_type": "display_data"
    },
    {
     "data": {
      "text/html": [
       "Syncing run <strong><a href='https://wandb.ai/urbankacper613-politechnika-rzeszowska-im-i-ukasiewicza/Classification-BR-VIT/runs/tpdu59iq' target=\"_blank\">microsoft-day</a></strong> to <a href='https://wandb.ai/urbankacper613-politechnika-rzeszowska-im-i-ukasiewicza/Classification-BR-VIT' target=\"_blank\">Weights & Biases</a> (<a href='https://wandb.me/developer-guide' target=\"_blank\">docs</a>)<br>"
      ],
      "text/plain": [
       "<IPython.core.display.HTML object>"
      ]
     },
     "metadata": {},
     "output_type": "display_data"
    },
    {
     "data": {
      "text/html": [
       " View project at <a href='https://wandb.ai/urbankacper613-politechnika-rzeszowska-im-i-ukasiewicza/Classification-BR-VIT' target=\"_blank\">https://wandb.ai/urbankacper613-politechnika-rzeszowska-im-i-ukasiewicza/Classification-BR-VIT</a>"
      ],
      "text/plain": [
       "<IPython.core.display.HTML object>"
      ]
     },
     "metadata": {},
     "output_type": "display_data"
    },
    {
     "data": {
      "text/html": [
       " View run at <a href='https://wandb.ai/urbankacper613-politechnika-rzeszowska-im-i-ukasiewicza/Classification-BR-VIT/runs/tpdu59iq' target=\"_blank\">https://wandb.ai/urbankacper613-politechnika-rzeszowska-im-i-ukasiewicza/Classification-BR-VIT/runs/tpdu59iq</a>"
      ],
      "text/plain": [
       "<IPython.core.display.HTML object>"
      ]
     },
     "metadata": {},
     "output_type": "display_data"
    },
    {
     "data": {
      "text/html": [
       "\n",
       "    <div>\n",
       "      \n",
       "      <progress value='850' max='850' style='width:300px; height:20px; vertical-align: middle;'></progress>\n",
       "      [850/850 06:49, Epoch 10/10]\n",
       "    </div>\n",
       "    <table border=\"1\" class=\"dataframe\">\n",
       "  <thead>\n",
       " <tr style=\"text-align: left;\">\n",
       "      <th>Epoch</th>\n",
       "      <th>Training Loss</th>\n",
       "      <th>Validation Loss</th>\n",
       "      <th>Accuracy</th>\n",
       "      <th>F1</th>\n",
       "    </tr>\n",
       "  </thead>\n",
       "  <tbody>\n",
       "    <tr>\n",
       "      <td>1</td>\n",
       "      <td>2.765800</td>\n",
       "      <td>1.145009</td>\n",
       "      <td>0.886667</td>\n",
       "      <td>0.877762</td>\n",
       "    </tr>\n",
       "    <tr>\n",
       "      <td>2</td>\n",
       "      <td>0.567500</td>\n",
       "      <td>0.244688</td>\n",
       "      <td>0.980000</td>\n",
       "      <td>0.979429</td>\n",
       "    </tr>\n",
       "    <tr>\n",
       "      <td>3</td>\n",
       "      <td>0.129000</td>\n",
       "      <td>0.117683</td>\n",
       "      <td>0.993333</td>\n",
       "      <td>0.993143</td>\n",
       "    </tr>\n",
       "    <tr>\n",
       "      <td>4</td>\n",
       "      <td>0.043100</td>\n",
       "      <td>0.073345</td>\n",
       "      <td>0.993333</td>\n",
       "      <td>0.993143</td>\n",
       "    </tr>\n",
       "    <tr>\n",
       "      <td>5</td>\n",
       "      <td>0.019900</td>\n",
       "      <td>0.073097</td>\n",
       "      <td>0.993333</td>\n",
       "      <td>0.993143</td>\n",
       "    </tr>\n",
       "    <tr>\n",
       "      <td>6</td>\n",
       "      <td>0.014500</td>\n",
       "      <td>0.077332</td>\n",
       "      <td>0.993333</td>\n",
       "      <td>0.993143</td>\n",
       "    </tr>\n",
       "    <tr>\n",
       "      <td>7</td>\n",
       "      <td>0.007100</td>\n",
       "      <td>0.075293</td>\n",
       "      <td>0.993333</td>\n",
       "      <td>0.993143</td>\n",
       "    </tr>\n",
       "    <tr>\n",
       "      <td>8</td>\n",
       "      <td>0.009200</td>\n",
       "      <td>0.078008</td>\n",
       "      <td>0.993333</td>\n",
       "      <td>0.993143</td>\n",
       "    </tr>\n",
       "    <tr>\n",
       "      <td>9</td>\n",
       "      <td>0.007800</td>\n",
       "      <td>0.078298</td>\n",
       "      <td>0.993333</td>\n",
       "      <td>0.993143</td>\n",
       "    </tr>\n",
       "    <tr>\n",
       "      <td>10</td>\n",
       "      <td>0.006600</td>\n",
       "      <td>0.077412</td>\n",
       "      <td>0.993333</td>\n",
       "      <td>0.993143</td>\n",
       "    </tr>\n",
       "  </tbody>\n",
       "</table><p>"
      ],
      "text/plain": [
       "<IPython.core.display.HTML object>"
      ]
     },
     "metadata": {},
     "output_type": "display_data"
    }
   ],
   "source": [
    "trained_model = train_model(model, processor, train_dataset_microsoft, val_dataset_microsoft, \"microsoft-day\")"
   ]
  },
  {
   "cell_type": "code",
   "execution_count": 31,
   "id": "37435ee1-8edc-42f3-bfca-921450d37d11",
   "metadata": {},
   "outputs": [
    {
     "data": {
      "text/html": [],
      "text/plain": [
       "<IPython.core.display.HTML object>"
      ]
     },
     "metadata": {},
     "output_type": "display_data"
    },
    {
     "name": "stdout",
     "output_type": "stream",
     "text": [
      "Accuracy: 0.037, f1-score: 0.035\n"
     ]
    }
   ],
   "source": [
    "outputs = trained_model.predict(test_dataset_microsoft)\n",
    "print(f\"Accuracy: {np.round(outputs.metrics['test_accuracy'], 3)}, f1-score: {np.round(outputs.metrics['test_f1'], 3)}\")"
   ]
  },
  {
   "cell_type": "code",
   "execution_count": null,
   "id": "1a21aed1-a5b7-4238-a086-1bbc59e586ea",
   "metadata": {},
   "outputs": [],
   "source": [
    "wandb.finish()"
   ]
  },
  {
   "cell_type": "markdown",
   "id": "679e7fb3-4ae8-407a-97a4-2d540e61b9de",
   "metadata": {},
   "source": [
    "#### Apple MobileViT"
   ]
  },
  {
   "cell_type": "code",
   "execution_count": 47,
   "id": "008263b6-7ed5-43b1-8fb3-8a8f39dba9a0",
   "metadata": {},
   "outputs": [],
   "source": [
    "model = MobileViTForImageClassification.from_pretrained(\"models/apple/model\")\n",
    "processor = MobileViTImageProcessor.from_pretrained(\"models/apple/processor\")"
   ]
  },
  {
   "cell_type": "code",
   "execution_count": 49,
   "id": "f05ede68-8f09-41b7-9cfb-f9d8650b075b",
   "metadata": {},
   "outputs": [],
   "source": [
    "train_dataset_apple, val_dataset_apple, test_dataset_apple = prepare_dataset(processor, train_dataset, val_dataset, test_dataset)"
   ]
  },
  {
   "cell_type": "code",
   "execution_count": 50,
   "id": "e0c8d00a-5689-4c61-bd15-0cf9ada5630d",
   "metadata": {},
   "outputs": [
    {
     "name": "stderr",
     "output_type": "stream",
     "text": [
      "C:\\Users\\urbii\\AppData\\Local\\Temp\\ipykernel_33396\\45990194.py:55: FutureWarning: `tokenizer` is deprecated and will be removed in version 5.0.0 for `Trainer.__init__`. Use `processing_class` instead.\n",
      "  trainer = Trainer(\n"
     ]
    },
    {
     "data": {
      "text/html": [
       "Changes to your `wandb` environment variables will be ignored because your `wandb` session has already started. For more information on how to modify your settings with `wandb.init()` arguments, please refer to <a href='https://wandb.me/wandb-init' target=\"_blank\">the W&B docs</a>."
      ],
      "text/plain": [
       "<IPython.core.display.HTML object>"
      ]
     },
     "metadata": {},
     "output_type": "display_data"
    },
    {
     "data": {
      "text/html": [
       "Tracking run with wandb version 0.19.4"
      ],
      "text/plain": [
       "<IPython.core.display.HTML object>"
      ]
     },
     "metadata": {},
     "output_type": "display_data"
    },
    {
     "data": {
      "text/html": [
       "Run data is saved locally in <code>C:\\Users\\urbii\\Desktop\\Projekty\\Image_classification_VIT\\wandb\\run-20250120_113300-o1z7xmbd</code>"
      ],
      "text/plain": [
       "<IPython.core.display.HTML object>"
      ]
     },
     "metadata": {},
     "output_type": "display_data"
    },
    {
     "data": {
      "text/html": [
       "Syncing run <strong><a href='https://wandb.ai/urbankacper613-politechnika-rzeszowska-im-i-ukasiewicza/Classification-BR-VIT/runs/o1z7xmbd' target=\"_blank\">apple-day</a></strong> to <a href='https://wandb.ai/urbankacper613-politechnika-rzeszowska-im-i-ukasiewicza/Classification-BR-VIT' target=\"_blank\">Weights & Biases</a> (<a href='https://wandb.me/developer-guide' target=\"_blank\">docs</a>)<br>"
      ],
      "text/plain": [
       "<IPython.core.display.HTML object>"
      ]
     },
     "metadata": {},
     "output_type": "display_data"
    },
    {
     "data": {
      "text/html": [
       " View project at <a href='https://wandb.ai/urbankacper613-politechnika-rzeszowska-im-i-ukasiewicza/Classification-BR-VIT' target=\"_blank\">https://wandb.ai/urbankacper613-politechnika-rzeszowska-im-i-ukasiewicza/Classification-BR-VIT</a>"
      ],
      "text/plain": [
       "<IPython.core.display.HTML object>"
      ]
     },
     "metadata": {},
     "output_type": "display_data"
    },
    {
     "data": {
      "text/html": [
       " View run at <a href='https://wandb.ai/urbankacper613-politechnika-rzeszowska-im-i-ukasiewicza/Classification-BR-VIT/runs/o1z7xmbd' target=\"_blank\">https://wandb.ai/urbankacper613-politechnika-rzeszowska-im-i-ukasiewicza/Classification-BR-VIT/runs/o1z7xmbd</a>"
      ],
      "text/plain": [
       "<IPython.core.display.HTML object>"
      ]
     },
     "metadata": {},
     "output_type": "display_data"
    },
    {
     "data": {
      "text/html": [
       "\n",
       "    <div>\n",
       "      \n",
       "      <progress value='850' max='850' style='width:300px; height:20px; vertical-align: middle;'></progress>\n",
       "      [850/850 03:59, Epoch 10/10]\n",
       "    </div>\n",
       "    <table border=\"1\" class=\"dataframe\">\n",
       "  <thead>\n",
       " <tr style=\"text-align: left;\">\n",
       "      <th>Epoch</th>\n",
       "      <th>Training Loss</th>\n",
       "      <th>Validation Loss</th>\n",
       "      <th>Accuracy</th>\n",
       "      <th>F1</th>\n",
       "    </tr>\n",
       "  </thead>\n",
       "  <tbody>\n",
       "    <tr>\n",
       "      <td>1</td>\n",
       "      <td>3.894500</td>\n",
       "      <td>3.867107</td>\n",
       "      <td>0.046667</td>\n",
       "      <td>0.037698</td>\n",
       "    </tr>\n",
       "    <tr>\n",
       "      <td>2</td>\n",
       "      <td>3.840400</td>\n",
       "      <td>3.816084</td>\n",
       "      <td>0.206667</td>\n",
       "      <td>0.178738</td>\n",
       "    </tr>\n",
       "    <tr>\n",
       "      <td>3</td>\n",
       "      <td>3.791400</td>\n",
       "      <td>3.761103</td>\n",
       "      <td>0.353333</td>\n",
       "      <td>0.309825</td>\n",
       "    </tr>\n",
       "    <tr>\n",
       "      <td>4</td>\n",
       "      <td>3.742500</td>\n",
       "      <td>3.711884</td>\n",
       "      <td>0.460000</td>\n",
       "      <td>0.426241</td>\n",
       "    </tr>\n",
       "    <tr>\n",
       "      <td>5</td>\n",
       "      <td>3.692000</td>\n",
       "      <td>3.664858</td>\n",
       "      <td>0.540000</td>\n",
       "      <td>0.500127</td>\n",
       "    </tr>\n",
       "    <tr>\n",
       "      <td>6</td>\n",
       "      <td>3.650500</td>\n",
       "      <td>3.616114</td>\n",
       "      <td>0.606667</td>\n",
       "      <td>0.561143</td>\n",
       "    </tr>\n",
       "    <tr>\n",
       "      <td>7</td>\n",
       "      <td>3.614100</td>\n",
       "      <td>3.580337</td>\n",
       "      <td>0.600000</td>\n",
       "      <td>0.553794</td>\n",
       "    </tr>\n",
       "    <tr>\n",
       "      <td>8</td>\n",
       "      <td>3.586900</td>\n",
       "      <td>3.559011</td>\n",
       "      <td>0.613333</td>\n",
       "      <td>0.569651</td>\n",
       "    </tr>\n",
       "    <tr>\n",
       "      <td>9</td>\n",
       "      <td>3.566300</td>\n",
       "      <td>3.539838</td>\n",
       "      <td>0.666667</td>\n",
       "      <td>0.629413</td>\n",
       "    </tr>\n",
       "    <tr>\n",
       "      <td>10</td>\n",
       "      <td>3.550900</td>\n",
       "      <td>3.525518</td>\n",
       "      <td>0.653333</td>\n",
       "      <td>0.611032</td>\n",
       "    </tr>\n",
       "  </tbody>\n",
       "</table><p>"
      ],
      "text/plain": [
       "<IPython.core.display.HTML object>"
      ]
     },
     "metadata": {},
     "output_type": "display_data"
    }
   ],
   "source": [
    "trained_model = train_model(model, processor, train_dataset_apple, val_dataset_apple, \"apple-day\")"
   ]
  },
  {
   "cell_type": "code",
   "execution_count": 51,
   "id": "36fb0a73-ae67-4c48-a0f8-3ee2348f53f8",
   "metadata": {},
   "outputs": [
    {
     "data": {
      "text/html": [],
      "text/plain": [
       "<IPython.core.display.HTML object>"
      ]
     },
     "metadata": {},
     "output_type": "display_data"
    },
    {
     "name": "stdout",
     "output_type": "stream",
     "text": [
      "Accuracy: 0.026, f1-score: 0.026\n"
     ]
    }
   ],
   "source": [
    "outputs = trained_model.predict(test_dataset_apple)\n",
    "print(f\"Accuracy: {np.round(outputs.metrics['test_accuracy'], 3)}, f1-score: {np.round(outputs.metrics['test_f1'], 3)}\")"
   ]
  },
  {
   "cell_type": "code",
   "execution_count": null,
   "id": "40b87545-bf7f-448a-abc3-534a303109a9",
   "metadata": {},
   "outputs": [],
   "source": [
    "wandb.finish()"
   ]
  }
 ],
 "metadata": {
  "kernelspec": {
   "display_name": "Python 3 (ipykernel)",
   "language": "python",
   "name": "python3"
  },
  "language_info": {
   "codemirror_mode": {
    "name": "ipython",
    "version": 3
   },
   "file_extension": ".py",
   "mimetype": "text/x-python",
   "name": "python",
   "nbconvert_exporter": "python",
   "pygments_lexer": "ipython3",
   "version": "3.12.6"
  }
 },
 "nbformat": 4,
 "nbformat_minor": 5
}

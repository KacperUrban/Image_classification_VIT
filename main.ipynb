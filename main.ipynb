{
 "cells": [
  {
   "cell_type": "markdown",
   "id": "672b5755-060c-4a22-a897-96c876d84f1d",
   "metadata": {},
   "source": [
    "## Importing libraries"
   ]
  },
  {
   "cell_type": "code",
   "execution_count": 11,
   "id": "64da388f-4704-44b3-b57b-eee83900fbea",
   "metadata": {},
   "outputs": [],
   "source": [
    "import os\n",
    "import pandas as pd"
   ]
  },
  {
   "cell_type": "markdown",
   "id": "072f1130-710e-46c1-8721-3b95379216fe",
   "metadata": {},
   "source": [
    "## Preparing data\n",
    "For further part I want to get some information about data, like filepath, label id, time_of_day and season. In latter part I will conduct experiments like make training on some part and excluded images taken during day and test on it. Thanks to this information I will have much easier later."
   ]
  },
  {
   "cell_type": "code",
   "execution_count": 4,
   "id": "d15eeecc-a7b6-4e05-b0ef-7b6c9e9f94d4",
   "metadata": {},
   "outputs": [],
   "source": [
    "list_of_files = os.listdir(\"data/BR\")"
   ]
  },
  {
   "cell_type": "code",
   "execution_count": 7,
   "id": "b9870fa6-bf8a-4895-a49e-8f5a2a7fb0ce",
   "metadata": {},
   "outputs": [],
   "source": [
    "dict_of_files = {key: list_of_files[i: i+60] for key, i in enumerate(range(0, len(list_of_files), 60))}"
   ]
  },
  {
   "cell_type": "code",
   "execution_count": 31,
   "id": "6ede037e-4ece-44df-845c-a66a4a66c448",
   "metadata": {},
   "outputs": [
    {
     "data": {
      "text/html": [
       "<div>\n",
       "<style scoped>\n",
       "    .dataframe tbody tr th:only-of-type {\n",
       "        vertical-align: middle;\n",
       "    }\n",
       "\n",
       "    .dataframe tbody tr th {\n",
       "        vertical-align: top;\n",
       "    }\n",
       "\n",
       "    .dataframe thead th {\n",
       "        text-align: right;\n",
       "    }\n",
       "</style>\n",
       "<table border=\"1\" class=\"dataframe\">\n",
       "  <thead>\n",
       "    <tr style=\"text-align: right;\">\n",
       "      <th></th>\n",
       "      <th>filepath</th>\n",
       "      <th>label_ids</th>\n",
       "      <th>time_of_day</th>\n",
       "      <th>season</th>\n",
       "    </tr>\n",
       "  </thead>\n",
       "  <tbody>\n",
       "    <tr>\n",
       "      <th>0</th>\n",
       "      <td>00_00_00.jpg</td>\n",
       "      <td>0</td>\n",
       "      <td>day</td>\n",
       "      <td>autumn</td>\n",
       "    </tr>\n",
       "    <tr>\n",
       "      <th>1</th>\n",
       "      <td>00_00_01.jpg</td>\n",
       "      <td>0</td>\n",
       "      <td>day</td>\n",
       "      <td>autumn</td>\n",
       "    </tr>\n",
       "    <tr>\n",
       "      <th>2</th>\n",
       "      <td>00_00_02.jpg</td>\n",
       "      <td>0</td>\n",
       "      <td>day</td>\n",
       "      <td>autumn</td>\n",
       "    </tr>\n",
       "    <tr>\n",
       "      <th>3</th>\n",
       "      <td>00_00_03.jpg</td>\n",
       "      <td>0</td>\n",
       "      <td>day</td>\n",
       "      <td>autumn</td>\n",
       "    </tr>\n",
       "    <tr>\n",
       "      <th>4</th>\n",
       "      <td>00_00_04.jpg</td>\n",
       "      <td>0</td>\n",
       "      <td>day</td>\n",
       "      <td>autumn</td>\n",
       "    </tr>\n",
       "  </tbody>\n",
       "</table>\n",
       "</div>"
      ],
      "text/plain": [
       "       filepath  label_ids time_of_day  season\n",
       "0  00_00_00.jpg          0         day  autumn\n",
       "1  00_00_01.jpg          0         day  autumn\n",
       "2  00_00_02.jpg          0         day  autumn\n",
       "3  00_00_03.jpg          0         day  autumn\n",
       "4  00_00_04.jpg          0         day  autumn"
      ]
     },
     "execution_count": 31,
     "metadata": {},
     "output_type": "execute_result"
    }
   ],
   "source": [
    "dict_of_data = {\"filepath\" : [], \"label_ids\" : [], \"time_of_day\": [], \"season\": []}\n",
    "additional_labels = [(\"day\", \"autumn\"), (\"night\", \"autumn\"), (\"day\", \"winter\"), (\"night\", \"winter\"), (\"day\", \"spring\"), (\"night\", \"spring\")]\n",
    "for key in dict_of_files.keys():\n",
    "    for i in range(len(dict_of_files[key])):\n",
    "        dict_of_data[\"filepath\"].append(dict_of_files[key][i])\n",
    "        dict_of_data[\"label_ids\"].append(key)\n",
    "        dict_of_data[\"time_of_day\"].append(additional_labels[i//10][0])\n",
    "        dict_of_data[\"season\"].append(additional_labels[i//10][1])\n",
    "br_df = pd.DataFrame(dict_of_data)\n",
    "br_df.head(5)"
   ]
  },
  {
   "cell_type": "code",
   "execution_count": 32,
   "id": "cf18b5a5-0f81-46f8-aecd-12e4ff4d67c8",
   "metadata": {},
   "outputs": [
    {
     "data": {
      "text/html": [
       "<div>\n",
       "<style scoped>\n",
       "    .dataframe tbody tr th:only-of-type {\n",
       "        vertical-align: middle;\n",
       "    }\n",
       "\n",
       "    .dataframe tbody tr th {\n",
       "        vertical-align: top;\n",
       "    }\n",
       "\n",
       "    .dataframe thead th {\n",
       "        text-align: right;\n",
       "    }\n",
       "</style>\n",
       "<table border=\"1\" class=\"dataframe\">\n",
       "  <thead>\n",
       "    <tr style=\"text-align: right;\">\n",
       "      <th></th>\n",
       "      <th>filepath</th>\n",
       "      <th>label_ids</th>\n",
       "      <th>time_of_day</th>\n",
       "      <th>season</th>\n",
       "    </tr>\n",
       "  </thead>\n",
       "  <tbody>\n",
       "    <tr>\n",
       "      <th>2995</th>\n",
       "      <td>49_05_05.jpg</td>\n",
       "      <td>49</td>\n",
       "      <td>night</td>\n",
       "      <td>spring</td>\n",
       "    </tr>\n",
       "    <tr>\n",
       "      <th>2996</th>\n",
       "      <td>49_05_06.jpg</td>\n",
       "      <td>49</td>\n",
       "      <td>night</td>\n",
       "      <td>spring</td>\n",
       "    </tr>\n",
       "    <tr>\n",
       "      <th>2997</th>\n",
       "      <td>49_05_07.jpg</td>\n",
       "      <td>49</td>\n",
       "      <td>night</td>\n",
       "      <td>spring</td>\n",
       "    </tr>\n",
       "    <tr>\n",
       "      <th>2998</th>\n",
       "      <td>49_05_08.jpg</td>\n",
       "      <td>49</td>\n",
       "      <td>night</td>\n",
       "      <td>spring</td>\n",
       "    </tr>\n",
       "    <tr>\n",
       "      <th>2999</th>\n",
       "      <td>49_05_09.jpg</td>\n",
       "      <td>49</td>\n",
       "      <td>night</td>\n",
       "      <td>spring</td>\n",
       "    </tr>\n",
       "  </tbody>\n",
       "</table>\n",
       "</div>"
      ],
      "text/plain": [
       "          filepath  label_ids time_of_day  season\n",
       "2995  49_05_05.jpg         49       night  spring\n",
       "2996  49_05_06.jpg         49       night  spring\n",
       "2997  49_05_07.jpg         49       night  spring\n",
       "2998  49_05_08.jpg         49       night  spring\n",
       "2999  49_05_09.jpg         49       night  spring"
      ]
     },
     "execution_count": 32,
     "metadata": {},
     "output_type": "execute_result"
    }
   ],
   "source": [
    "br_df.tail(5)"
   ]
  },
  {
   "cell_type": "code",
   "execution_count": 58,
   "id": "c2c9c835-1340-4141-9aa9-62b626892e58",
   "metadata": {},
   "outputs": [],
   "source": [
    "ids_split_data = {}\n",
    "compose_labels = [\"day\", \"night\", \"winter\", \"spring\", \"autumn\", (\"day\", \"winter\"), (\"night\", \"winter\"), (\"day\", \"spring\"), (\"night\", \"spring\"),\n",
    "                    (\"day\", \"autumn\"), (\"night\", \"autumn\")]\n",
    "for label in compose_labels:\n",
    "    if len(label) == 2:\n",
    "        ids_split_data[f\"{label[0]}-{label[1]}\"] = br_df.loc[(br_df[\"time_of_day\"] == label[0]) & (br_df[\"season\"] == label[1])].index.tolist()\n",
    "    else:\n",
    "        try:\n",
    "            ids_split_data[label] = br_df[br_df[\"time_of_day\"] == label].index.tolist()\n",
    "        except:\n",
    "            ids_split_data[label] = br_df[br_df[\"season\"] == label].index.tolist()"
   ]
  },
  {
   "cell_type": "code",
   "execution_count": 55,
   "id": "fefdf6fd-ae61-4b92-b946-e2a139807577",
   "metadata": {},
   "outputs": [],
   "source": [
    "ids = br_df.loc[(br_df[\"time_of_day\"] == \"day\") & (br_df[\"season\"] == \"spring\")].index.tolist()"
   ]
  },
  {
   "cell_type": "code",
   "execution_count": 61,
   "id": "f76fb446-b68e-484b-9244-7017990f791c",
   "metadata": {},
   "outputs": [
    {
     "data": {
      "text/html": [
       "<div>\n",
       "<style scoped>\n",
       "    .dataframe tbody tr th:only-of-type {\n",
       "        vertical-align: middle;\n",
       "    }\n",
       "\n",
       "    .dataframe tbody tr th {\n",
       "        vertical-align: top;\n",
       "    }\n",
       "\n",
       "    .dataframe thead th {\n",
       "        text-align: right;\n",
       "    }\n",
       "</style>\n",
       "<table border=\"1\" class=\"dataframe\">\n",
       "  <thead>\n",
       "    <tr style=\"text-align: right;\">\n",
       "      <th></th>\n",
       "      <th>filepath</th>\n",
       "      <th>label_ids</th>\n",
       "      <th>time_of_day</th>\n",
       "      <th>season</th>\n",
       "    </tr>\n",
       "  </thead>\n",
       "  <tbody>\n",
       "    <tr>\n",
       "      <th>0</th>\n",
       "      <td>00_00_00.jpg</td>\n",
       "      <td>0</td>\n",
       "      <td>day</td>\n",
       "      <td>autumn</td>\n",
       "    </tr>\n",
       "    <tr>\n",
       "      <th>1</th>\n",
       "      <td>00_00_01.jpg</td>\n",
       "      <td>0</td>\n",
       "      <td>day</td>\n",
       "      <td>autumn</td>\n",
       "    </tr>\n",
       "    <tr>\n",
       "      <th>2</th>\n",
       "      <td>00_00_02.jpg</td>\n",
       "      <td>0</td>\n",
       "      <td>day</td>\n",
       "      <td>autumn</td>\n",
       "    </tr>\n",
       "    <tr>\n",
       "      <th>3</th>\n",
       "      <td>00_00_03.jpg</td>\n",
       "      <td>0</td>\n",
       "      <td>day</td>\n",
       "      <td>autumn</td>\n",
       "    </tr>\n",
       "    <tr>\n",
       "      <th>4</th>\n",
       "      <td>00_00_04.jpg</td>\n",
       "      <td>0</td>\n",
       "      <td>day</td>\n",
       "      <td>autumn</td>\n",
       "    </tr>\n",
       "    <tr>\n",
       "      <th>...</th>\n",
       "      <td>...</td>\n",
       "      <td>...</td>\n",
       "      <td>...</td>\n",
       "      <td>...</td>\n",
       "    </tr>\n",
       "    <tr>\n",
       "      <th>2945</th>\n",
       "      <td>49_00_05.jpg</td>\n",
       "      <td>49</td>\n",
       "      <td>day</td>\n",
       "      <td>autumn</td>\n",
       "    </tr>\n",
       "    <tr>\n",
       "      <th>2946</th>\n",
       "      <td>49_00_06.jpg</td>\n",
       "      <td>49</td>\n",
       "      <td>day</td>\n",
       "      <td>autumn</td>\n",
       "    </tr>\n",
       "    <tr>\n",
       "      <th>2947</th>\n",
       "      <td>49_00_07.jpg</td>\n",
       "      <td>49</td>\n",
       "      <td>day</td>\n",
       "      <td>autumn</td>\n",
       "    </tr>\n",
       "    <tr>\n",
       "      <th>2948</th>\n",
       "      <td>49_00_08.jpg</td>\n",
       "      <td>49</td>\n",
       "      <td>day</td>\n",
       "      <td>autumn</td>\n",
       "    </tr>\n",
       "    <tr>\n",
       "      <th>2949</th>\n",
       "      <td>49_00_09.jpg</td>\n",
       "      <td>49</td>\n",
       "      <td>day</td>\n",
       "      <td>autumn</td>\n",
       "    </tr>\n",
       "  </tbody>\n",
       "</table>\n",
       "<p>500 rows × 4 columns</p>\n",
       "</div>"
      ],
      "text/plain": [
       "          filepath  label_ids time_of_day  season\n",
       "0     00_00_00.jpg          0         day  autumn\n",
       "1     00_00_01.jpg          0         day  autumn\n",
       "2     00_00_02.jpg          0         day  autumn\n",
       "3     00_00_03.jpg          0         day  autumn\n",
       "4     00_00_04.jpg          0         day  autumn\n",
       "...            ...        ...         ...     ...\n",
       "2945  49_00_05.jpg         49         day  autumn\n",
       "2946  49_00_06.jpg         49         day  autumn\n",
       "2947  49_00_07.jpg         49         day  autumn\n",
       "2948  49_00_08.jpg         49         day  autumn\n",
       "2949  49_00_09.jpg         49         day  autumn\n",
       "\n",
       "[500 rows x 4 columns]"
      ]
     },
     "execution_count": 61,
     "metadata": {},
     "output_type": "execute_result"
    }
   ],
   "source": [
    "br_df.iloc[ids_split_data[\"day-autumn\"], :]"
   ]
  },
  {
   "cell_type": "code",
   "execution_count": 62,
   "id": "ac1a659e-d296-47a6-9175-2f119c2b2e74",
   "metadata": {},
   "outputs": [
    {
     "data": {
      "text/plain": [
       "dict_keys(['day', 'night', 'winter', 'spring', 'autumn', 'day-winter', 'night-winter', 'day-spring', 'night-spring', 'day-autumn', 'night-autumn'])"
      ]
     },
     "execution_count": 62,
     "metadata": {},
     "output_type": "execute_result"
    }
   ],
   "source": [
    "ids_split_data.keys()"
   ]
  }
 ],
 "metadata": {
  "kernelspec": {
   "display_name": "Python 3 (ipykernel)",
   "language": "python",
   "name": "python3"
  },
  "language_info": {
   "codemirror_mode": {
    "name": "ipython",
    "version": 3
   },
   "file_extension": ".py",
   "mimetype": "text/x-python",
   "name": "python",
   "nbconvert_exporter": "python",
   "pygments_lexer": "ipython3",
   "version": "3.12.6"
  }
 },
 "nbformat": 4,
 "nbformat_minor": 5
}
